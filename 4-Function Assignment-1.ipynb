{
 "cells": [
  {
   "cell_type": "code",
   "execution_count": 1,
   "id": "3f98b28e",
   "metadata": {},
   "outputs": [],
   "source": [
    "def Subfields():\n",
    "    print(\"Sub-fields in AI are:\")\n",
    "    Lists=['Machine Learning','Neural Networks','Vision','Robotics','Speech Processing','Natural Language Processing']\n",
    "    for lessons in Lists:\n",
    "        print(lessons)"
   ]
  },
  {
   "cell_type": "code",
   "execution_count": 2,
   "id": "df0aec50",
   "metadata": {},
   "outputs": [
    {
     "name": "stdout",
     "output_type": "stream",
     "text": [
      "Sub-fields in AI are:\n",
      "Machine Learning\n",
      "Neural Networks\n",
      "Vision\n",
      "Robotics\n",
      "Speech Processing\n",
      "Natural Language Processing\n"
     ]
    }
   ],
   "source": [
    "Subfields()"
   ]
  },
  {
   "cell_type": "code",
   "execution_count": 3,
   "id": "62a57ed5",
   "metadata": {},
   "outputs": [],
   "source": [
    "def OddEven():\n",
    "    num=int(input(\"Enter a Number: \"))\n",
    "    if((num%2)==1):\n",
    "        print(num, \"is Odd Number\")\n",
    "    else:\n",
    "        print(num, \"is Even Number\")"
   ]
  },
  {
   "cell_type": "code",
   "execution_count": 4,
   "id": "f8279b7d",
   "metadata": {},
   "outputs": [
    {
     "name": "stdout",
     "output_type": "stream",
     "text": [
      "Enter a Number: 52452\n",
      "52452 is Even Number\n"
     ]
    }
   ],
   "source": [
    "OddEven()"
   ]
  },
  {
   "cell_type": "code",
   "execution_count": 5,
   "id": "204f4297",
   "metadata": {},
   "outputs": [],
   "source": [
    "def Eligible():\n",
    "    sex=input(\"Your Gender:\")\n",
    "    age=int(input(\"Your Age:\"))\n",
    "    if(sex==\"Female\"):\n",
    "        if(age>=18):\n",
    "            print(\"ELIGIBLE\")\n",
    "        else:\n",
    "            print(\"NOT ELIGIBLE\")\n",
    "    elif(sex==\"Male\"):\n",
    "        if(age>=21):\n",
    "            print(\"ELIGIBLE\")\n",
    "        else:\n",
    "            print(\"NOT ELIGIBLE\")\n",
    "    else:\n",
    "        print(\"INVALID DATA\")"
   ]
  },
  {
   "cell_type": "code",
   "execution_count": 6,
   "id": "4ebce733",
   "metadata": {},
   "outputs": [
    {
     "name": "stdout",
     "output_type": "stream",
     "text": [
      "Your Gender:Male\n",
      "Your Age:20\n",
      "NOT ELIGIBLE\n"
     ]
    }
   ],
   "source": [
    "Eligible()"
   ]
  },
  {
   "cell_type": "code",
   "execution_count": 7,
   "id": "34125eb3",
   "metadata": {},
   "outputs": [],
   "source": [
    "def percentage():\n",
    "    s1=int(input(\"Subject1= \"))\n",
    "    s2=int(input(\"Subject2= \"))\n",
    "    s3=int(input(\"Subject3= \"))\n",
    "    s4=int(input(\"Subject4= \"))\n",
    "    s5=int(input(\"Subject5= \"))\n",
    "    total=s1+s2+s3+s4+s5\n",
    "    print(\"Totel : \",total)\n",
    "    per=(total/500)*100\n",
    "    print(\"Percentage : \",per,'%')"
   ]
  },
  {
   "cell_type": "code",
   "execution_count": 8,
   "id": "586e0bd4",
   "metadata": {},
   "outputs": [
    {
     "name": "stdout",
     "output_type": "stream",
     "text": [
      "Subject1= 98\n",
      "Subject2= 87\n",
      "Subject3= 95\n",
      "Subject4= 95\n",
      "Subject5= 93\n",
      "Totel :  468\n",
      "Percentage :  93.60000000000001 %\n"
     ]
    }
   ],
   "source": [
    "percentage()"
   ]
  },
  {
   "cell_type": "code",
   "execution_count": 9,
   "id": "e1728f4c",
   "metadata": {},
   "outputs": [],
   "source": [
    "def triangle():\n",
    "    high=int(input(\"Height:\"))\n",
    "    breth=int(input(\"Breadth:\"))\n",
    "    print(\"Area formula: (Height*Breadth)/2\")\n",
    "    area=(high*breth)/2\n",
    "    print(\"Area of Triangle: \",area)\n",
    "    High1=int(input(\"Height1:\"))\n",
    "    High2=int(input(\"Height2:\"))\n",
    "    breth2=int(input(\"Breadth:\"))\n",
    "    print(\"Perimeter formula: Height1+Height2+Breadth\")\n",
    "    primeter=High1+High2+breth2\n",
    "    print(\"Perimeter of triangle:\",primeter)"
   ]
  },
  {
   "cell_type": "code",
   "execution_count": 10,
   "id": "c7417f9d",
   "metadata": {},
   "outputs": [
    {
     "name": "stdout",
     "output_type": "stream",
     "text": [
      "Height:32\n",
      "Breadth:34\n",
      "Area formula: (Height*Breadth)/2\n",
      "Area of Triangle:  544.0\n",
      "Height1:2\n",
      "Height2:4\n",
      "Breadth:4\n",
      "Perimeter formula: Height1+Height2+Breadth\n",
      "Perimeter of triangle: 10\n"
     ]
    }
   ],
   "source": [
    "triangle()"
   ]
  },
  {
   "cell_type": "code",
   "execution_count": null,
   "id": "bdab8494",
   "metadata": {},
   "outputs": [],
   "source": []
  }
 ],
 "metadata": {
  "kernelspec": {
   "display_name": "Python 3 (ipykernel)",
   "language": "python",
   "name": "python3"
  },
  "language_info": {
   "codemirror_mode": {
    "name": "ipython",
    "version": 3
   },
   "file_extension": ".py",
   "mimetype": "text/x-python",
   "name": "python",
   "nbconvert_exporter": "python",
   "pygments_lexer": "ipython3",
   "version": "3.11.5"
  }
 },
 "nbformat": 4,
 "nbformat_minor": 5
}
