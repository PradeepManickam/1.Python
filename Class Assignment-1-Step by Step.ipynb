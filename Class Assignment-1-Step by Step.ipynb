{
 "cells": [
  {
   "cell_type": "code",
   "execution_count": 4,
   "id": "ae0e02c1",
   "metadata": {},
   "outputs": [
    {
     "name": "stdout",
     "output_type": "stream",
     "text": [
      "Sub-fields in AI are:\n",
      "Machine Learning\n",
      "Neural Networks\n",
      "Vision\n",
      "Robotics\n",
      "Speech Processing\n",
      "Natural Language Processing\n"
     ]
    }
   ],
   "source": [
    "#Qestion 1:\n",
    "list=['Sub-fields in AI are:', 'Machine Learning', 'Neural Networks', 'Vision', 'Robotics', 'Speech Processing', 'Natural Language Processing']\n",
    "for lesson in list:\n",
    "    print(lesson)"
   ]
  },
  {
   "cell_type": "code",
   "execution_count": 5,
   "id": "427306ea",
   "metadata": {},
   "outputs": [],
   "source": [
    "def Subfields():\n",
    "    list=['Sub-fields in AI are:', 'Machine Learning', 'Neural Networks', 'Vision', 'Robotics', 'Speech Processing', 'Natural Language Processing']\n",
    "    for lesson in list:\n",
    "        print(lesson)"
   ]
  },
  {
   "cell_type": "code",
   "execution_count": 6,
   "id": "1b1be9a5",
   "metadata": {},
   "outputs": [
    {
     "name": "stdout",
     "output_type": "stream",
     "text": [
      "Sub-fields in AI are:\n",
      "Machine Learning\n",
      "Neural Networks\n",
      "Vision\n",
      "Robotics\n",
      "Speech Processing\n",
      "Natural Language Processing\n"
     ]
    }
   ],
   "source": [
    "Subfields()"
   ]
  },
  {
   "cell_type": "code",
   "execution_count": 7,
   "id": "6be869a3",
   "metadata": {},
   "outputs": [],
   "source": [
    "class SubfieldsInAi():\n",
    "    def Subfields():\n",
    "        list=['Sub-fields in AI are:', 'Machine Learning', 'Neural Networks', 'Vision', 'Robotics', 'Speech Processing', 'Natural Language Processing']\n",
    "        for lesson in list:\n",
    "            print(lesson)"
   ]
  },
  {
   "cell_type": "code",
   "execution_count": 8,
   "id": "14824e7e",
   "metadata": {},
   "outputs": [
    {
     "name": "stdout",
     "output_type": "stream",
     "text": [
      "Sub-fields in AI are:\n",
      "Machine Learning\n",
      "Neural Networks\n",
      "Vision\n",
      "Robotics\n",
      "Speech Processing\n",
      "Natural Language Processing\n"
     ]
    }
   ],
   "source": [
    "SubfieldsInAi.Subfields()"
   ]
  },
  {
   "cell_type": "code",
   "execution_count": 10,
   "id": "b473056e",
   "metadata": {},
   "outputs": [
    {
     "name": "stdout",
     "output_type": "stream",
     "text": [
      "Enter a number: 52452\n",
      "52452  is Even number\n"
     ]
    }
   ],
   "source": [
    "#Qestion 2:\n",
    "num=int(input(\"Enter a number: \"))\n",
    "if ((num%2)==1):\n",
    "    print(num,\" is Odd number\")\n",
    "else:\n",
    "    print(num,\" is Even number\")"
   ]
  },
  {
   "cell_type": "code",
   "execution_count": 8,
   "id": "1889c7dd",
   "metadata": {},
   "outputs": [],
   "source": [
    "def OddEven():\n",
    "    num=int(input(\"Enter a number: \"))\n",
    "    if ((num%2)==1):\n",
    "        print(num,\" is Odd number\")\n",
    "        output=num,\"is Odd number\"\n",
    "    else:\n",
    "        print(num,\" is Even number\")\n",
    "        output=num,\" is Even number\"\n",
    "    return output"
   ]
  },
  {
   "cell_type": "code",
   "execution_count": 9,
   "id": "4a2d0254",
   "metadata": {},
   "outputs": [
    {
     "name": "stdout",
     "output_type": "stream",
     "text": [
      "Enter a number: 52452\n",
      "52452  is Even number\n"
     ]
    },
    {
     "data": {
      "text/plain": [
       "(52452, ' is Even number')"
      ]
     },
     "execution_count": 9,
     "metadata": {},
     "output_type": "execute_result"
    }
   ],
   "source": [
    "OddEven()"
   ]
  },
  {
   "cell_type": "code",
   "execution_count": 7,
   "id": "d45f4035",
   "metadata": {},
   "outputs": [],
   "source": [
    "class OddEven():\n",
    "    def OddEven():\n",
    "        num=int(input(\"Enter a number: \"))\n",
    "        if ((num%2)==1):\n",
    "            print(num,\" is Odd number\")\n",
    "            output=num,\" is Odd number\"\n",
    "        else:\n",
    "            print(num,\" is Even number\")\n",
    "            output=num,\" is Even number\"\n",
    "        return output"
   ]
  },
  {
   "cell_type": "code",
   "execution_count": 5,
   "id": "16001450",
   "metadata": {},
   "outputs": [
    {
     "name": "stdout",
     "output_type": "stream",
     "text": [
      "Enter a number: 52452\n",
      "52452  is Even number\n"
     ]
    },
    {
     "data": {
      "text/plain": [
       "(52452, ' is Even number')"
      ]
     },
     "execution_count": 5,
     "metadata": {},
     "output_type": "execute_result"
    }
   ],
   "source": [
    "OddEven.OddEven()"
   ]
  },
  {
   "cell_type": "code",
   "execution_count": 13,
   "id": "a859cdfb",
   "metadata": {},
   "outputs": [
    {
     "name": "stdout",
     "output_type": "stream",
     "text": [
      "Your Gender:Male\n",
      "Your Age:20\n",
      "NOT ELIGIBLE\n"
     ]
    }
   ],
   "source": [
    "#Qestion 3:\n",
    "Gender=input(\"Your Gender:\")\n",
    "Age=int(input(\"Your Age:\"))\n",
    "if(Gender=='Female'):\n",
    "    if(Age>=18):\n",
    "        print(\"ELIGIBLE\")\n",
    "    else:\n",
    "        print(\"NOT ELIGIBLE\")\n",
    "elif(Gender=='Male'):\n",
    "    if(Age>=21):\n",
    "        print(\"ELIGIBLE\")\n",
    "    else:\n",
    "        print(\"NOT ELIGIBLE\")\n",
    "else:\n",
    "    print(\"INVALID DATA\")"
   ]
  },
  {
   "cell_type": "code",
   "execution_count": 15,
   "id": "7fb6094b",
   "metadata": {},
   "outputs": [],
   "source": [
    "def Elegible():\n",
    "    Gender=input(\"Your Gender:\")\n",
    "    Age=int(input(\"Your Age:\"))\n",
    "    if(Gender=='Female'):\n",
    "        if(Age>=18):\n",
    "            print(\"ELIGIBLE\")\n",
    "            result=\"ELIGIBLE\"\n",
    "        else:\n",
    "            print(\"NOT ELIGIBLE\")\n",
    "            result=\"NOT ELIGIBLE\"\n",
    "    elif(Gender=='Male'):\n",
    "        if(Age>=21):\n",
    "            print(\"ELIGIBLE\")\n",
    "            result=\"ELIGIBLE\"\n",
    "        else:\n",
    "            print(\"NOT ELIGIBLE\")\n",
    "            result=\"NOT ELIGIBLE\"\n",
    "    else:\n",
    "        print(\"INVALID DATA\")\n",
    "        result=\"INVALID DATA\"\n",
    "    return result"
   ]
  },
  {
   "cell_type": "code",
   "execution_count": 16,
   "id": "74fd903f",
   "metadata": {},
   "outputs": [
    {
     "name": "stdout",
     "output_type": "stream",
     "text": [
      "Your Gender:Male\n",
      "Your Age:20\n",
      "NOT ELIGIBLE\n"
     ]
    },
    {
     "data": {
      "text/plain": [
       "'NOT ELIGIBLE'"
      ]
     },
     "execution_count": 16,
     "metadata": {},
     "output_type": "execute_result"
    }
   ],
   "source": [
    "Elegible()"
   ]
  },
  {
   "cell_type": "code",
   "execution_count": 18,
   "id": "df2f1847",
   "metadata": {},
   "outputs": [],
   "source": [
    "class ElegiblityForMarriage():\n",
    "    def Elegible():\n",
    "        Gender=input(\"Your Gender:\")\n",
    "        Age=int(input(\"Your Age:\"))\n",
    "        if(Gender=='Female'):\n",
    "            if(Age>=18):\n",
    "                print(\"ELIGIBLE\")\n",
    "                result=\"ELIGIBLE\"\n",
    "            else:\n",
    "                print(\"NOT ELIGIBLE\")\n",
    "                result=\"NOT ELIGIBLE\"\n",
    "        elif(Gender=='Male'):\n",
    "            if(Age>=21):\n",
    "                print(\"ELIGIBLE\")\n",
    "                result=\"ELIGIBLE\"\n",
    "            else:\n",
    "                print(\"NOT ELIGIBLE\")\n",
    "                result=\"NOT ELIGIBLE\"\n",
    "        else:\n",
    "            print(\"INVALID DATA\")\n",
    "            result=\"INVALID DATA\"\n",
    "        return result"
   ]
  },
  {
   "cell_type": "code",
   "execution_count": 19,
   "id": "bca00d4b",
   "metadata": {},
   "outputs": [
    {
     "name": "stdout",
     "output_type": "stream",
     "text": [
      "Your Gender:Male\n",
      "Your Age:20\n",
      "NOT ELIGIBLE\n"
     ]
    },
    {
     "data": {
      "text/plain": [
       "'NOT ELIGIBLE'"
      ]
     },
     "execution_count": 19,
     "metadata": {},
     "output_type": "execute_result"
    }
   ],
   "source": [
    "ElegiblityForMarriage.Elegible()"
   ]
  },
  {
   "cell_type": "code",
   "execution_count": 21,
   "id": "978d10d1",
   "metadata": {},
   "outputs": [
    {
     "name": "stdout",
     "output_type": "stream",
     "text": [
      "Subject1= 98\n",
      "Subject2= 87\n",
      "Subject3= 95\n",
      "Subject4= 95\n",
      "Subject5= 93\n",
      "Total :  468\n",
      "Percentage :  93.60000000000001\n"
     ]
    }
   ],
   "source": [
    "#Qestion 4:\n",
    "sub1=int(input(\"Subject1= \"))\n",
    "sub2=int(input(\"Subject2= \"))\n",
    "sub3=int(input(\"Subject3= \"))\n",
    "sub4=int(input(\"Subject4= \"))\n",
    "sub5=int(input(\"Subject5= \"))\n",
    "total=sub1+sub2+sub3+sub4+sub5\n",
    "print(\"Total : \",total)\n",
    "per=(total/500)*100\n",
    "print(\"Percentage : \",per)"
   ]
  },
  {
   "cell_type": "code",
   "execution_count": 22,
   "id": "32a9b263",
   "metadata": {},
   "outputs": [],
   "source": [
    "def percentage():\n",
    "    sub1=int(input(\"Subject1= \"))\n",
    "    sub2=int(input(\"Subject2= \"))\n",
    "    sub3=int(input(\"Subject3= \"))\n",
    "    sub4=int(input(\"Subject4= \"))\n",
    "    sub5=int(input(\"Subject5= \"))\n",
    "    total=sub1+sub2+sub3+sub4+sub5\n",
    "    print(\"Total : \",total)\n",
    "    per=(total/500)*100\n",
    "    print(\"Percentage : \",per)\n",
    "    percen=\"Percentage : \",per\n",
    "    return percen"
   ]
  },
  {
   "cell_type": "code",
   "execution_count": 24,
   "id": "af9707a9",
   "metadata": {},
   "outputs": [
    {
     "name": "stdout",
     "output_type": "stream",
     "text": [
      "Subject1= 98\n",
      "Subject2= 87\n",
      "Subject3= 95\n",
      "Subject4= 95\n",
      "Subject5= 93\n",
      "Total :  468\n",
      "Percentage :  93.60000000000001\n"
     ]
    },
    {
     "data": {
      "text/plain": [
       "('Percentage : ', 93.60000000000001)"
      ]
     },
     "execution_count": 24,
     "metadata": {},
     "output_type": "execute_result"
    }
   ],
   "source": [
    "percentage()"
   ]
  },
  {
   "cell_type": "code",
   "execution_count": 25,
   "id": "d6b3f555",
   "metadata": {},
   "outputs": [],
   "source": [
    "class FindPercent():\n",
    "    def percentage():\n",
    "        sub1=int(input(\"Subject1= \"))\n",
    "        sub2=int(input(\"Subject2= \"))\n",
    "        sub3=int(input(\"Subject3= \"))\n",
    "        sub4=int(input(\"Subject4= \"))\n",
    "        sub5=int(input(\"Subject5= \"))\n",
    "        total=sub1+sub2+sub3+sub4+sub5\n",
    "        print(\"Total : \",total)\n",
    "        per=(total/500)*100\n",
    "        print(\"Percentage : \",per)\n",
    "        percen=\"Percentage : \",per\n",
    "        return percen"
   ]
  },
  {
   "cell_type": "code",
   "execution_count": 26,
   "id": "8a1829ca",
   "metadata": {},
   "outputs": [
    {
     "name": "stdout",
     "output_type": "stream",
     "text": [
      "Subject1= 98\n",
      "Subject2= 87\n",
      "Subject3= 95\n",
      "Subject4= 95\n",
      "Subject5= 93\n",
      "Total :  468\n",
      "Percentage :  93.60000000000001\n"
     ]
    },
    {
     "data": {
      "text/plain": [
       "('Percentage : ', 93.60000000000001)"
      ]
     },
     "execution_count": 26,
     "metadata": {},
     "output_type": "execute_result"
    }
   ],
   "source": [
    "FindPercent.percentage()"
   ]
  },
  {
   "cell_type": "code",
   "execution_count": 29,
   "id": "ee7a3848",
   "metadata": {},
   "outputs": [
    {
     "name": "stdout",
     "output_type": "stream",
     "text": [
      "Height:32\n",
      "Breadth:34\n",
      "Area formula: (Height*Breadth)/2\n",
      "Area of Trinangle:  544.0\n",
      "Height1:2\n",
      "Height2:4\n",
      "Breadth:4\n",
      "Perimeter formula: Height1+Height2+Breadth\n",
      "Perimeter of Triangle:  10\n"
     ]
    }
   ],
   "source": [
    "#Qestion 5:\n",
    "High=int(input(\"Height:\"))\n",
    "Breth=int(input(\"Breadth:\"))\n",
    "print(\"Area formula: (Height*Breadth)/2\")\n",
    "Area=(High*Breth)/2\n",
    "print(\"Area of Trinangle: \",Area)\n",
    "High1=int(input(\"Height1:\"))\n",
    "High2=int(input(\"Height2:\"))\n",
    "Breth=int(input(\"Breadth:\"))\n",
    "print(\"Perimeter formula: Height1+Height2+Breadth\")\n",
    "Perimeter=High1+High2+Breth\n",
    "print(\"Perimeter of Triangle: \",Perimeter)"
   ]
  },
  {
   "cell_type": "code",
   "execution_count": 30,
   "id": "da86b8fd",
   "metadata": {},
   "outputs": [],
   "source": [
    "def triangle():\n",
    "    High=int(input(\"Height:\"))\n",
    "    Breth=int(input(\"Breadth:\"))\n",
    "    print(\"Area formula: (Height*Breadth)/2\")\n",
    "    Area=(High*Breth)/2\n",
    "    print(\"Area of Trinangle: \",Area)\n",
    "    High1=int(input(\"Height1:\"))\n",
    "    High2=int(input(\"Height2:\"))\n",
    "    Breth=int(input(\"Breadth:\"))\n",
    "    print(\"Perimeter formula: Height1+Height2+Breadth\")\n",
    "    Perimeter=High1+High2+Breth\n",
    "    print(\"Perimeter of Triangle: \",Perimeter)"
   ]
  },
  {
   "cell_type": "code",
   "execution_count": 31,
   "id": "c052bdaa",
   "metadata": {},
   "outputs": [
    {
     "name": "stdout",
     "output_type": "stream",
     "text": [
      "Height:32\n",
      "Breadth:34\n",
      "Area formula: (Height*Breadth)/2\n",
      "Area of Trinangle:  544.0\n",
      "Height1:2\n",
      "Height2:4\n",
      "Breadth:4\n",
      "Perimeter formula: Height1+Height2+Breadth\n",
      "Perimeter of Triangle:  10\n"
     ]
    }
   ],
   "source": [
    "triangle()"
   ]
  },
  {
   "cell_type": "code",
   "execution_count": 32,
   "id": "4b2c4a4c",
   "metadata": {},
   "outputs": [],
   "source": [
    "class triangle():\n",
    "    def triangle():\n",
    "        High=int(input(\"Height:\"))\n",
    "        Breth=int(input(\"Breadth:\"))\n",
    "        print(\"Area formula: (Height*Breadth)/2\")\n",
    "        Area=(High*Breth)/2\n",
    "        print(\"Area of Trinangle: \",Area)\n",
    "        High1=int(input(\"Height1:\"))\n",
    "        High2=int(input(\"Height2:\"))\n",
    "        Breth=int(input(\"Breadth:\"))\n",
    "        print(\"Perimeter formula: Height1+Height2+Breadth\")\n",
    "        Perimeter=High1+High2+Breth\n",
    "        print(\"Perimeter of Triangle: \",Perimeter)"
   ]
  },
  {
   "cell_type": "code",
   "execution_count": 33,
   "id": "8387c780",
   "metadata": {},
   "outputs": [
    {
     "name": "stdout",
     "output_type": "stream",
     "text": [
      "Height:32\n",
      "Breadth:34\n",
      "Area formula: (Height*Breadth)/2\n",
      "Area of Trinangle:  544.0\n",
      "Height1:2\n",
      "Height2:4\n",
      "Breadth:4\n",
      "Perimeter formula: Height1+Height2+Breadth\n",
      "Perimeter of Triangle:  10\n"
     ]
    }
   ],
   "source": [
    "triangle.triangle()"
   ]
  },
  {
   "cell_type": "code",
   "execution_count": null,
   "id": "c6b2ca5b",
   "metadata": {},
   "outputs": [],
   "source": []
  }
 ],
 "metadata": {
  "kernelspec": {
   "display_name": "Python 3 (ipykernel)",
   "language": "python",
   "name": "python3"
  },
  "language_info": {
   "codemirror_mode": {
    "name": "ipython",
    "version": 3
   },
   "file_extension": ".py",
   "mimetype": "text/x-python",
   "name": "python",
   "nbconvert_exporter": "python",
   "pygments_lexer": "ipython3",
   "version": "3.11.5"
  }
 },
 "nbformat": 4,
 "nbformat_minor": 5
}
