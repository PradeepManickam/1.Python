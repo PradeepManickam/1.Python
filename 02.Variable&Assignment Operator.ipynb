{
 "cells": [
  {
   "cell_type": "code",
   "execution_count": 2,
   "id": "61902ecc",
   "metadata": {},
   "outputs": [],
   "source": [
    "num1=10\n",
    "num2=30\n",
    "Add=num1+num2"
   ]
  },
  {
   "cell_type": "code",
   "execution_count": 4,
   "id": "c5cafe09",
   "metadata": {},
   "outputs": [
    {
     "name": "stdout",
     "output_type": "stream",
     "text": [
      "Add\n"
     ]
    }
   ],
   "source": [
    "num1=10\n",
    "num2=30\n",
    "Add=num1+num2\n",
    "print(\"Add\")"
   ]
  },
  {
   "cell_type": "code",
   "execution_count": 5,
   "id": "9af8bfaa",
   "metadata": {},
   "outputs": [
    {
     "name": "stdout",
     "output_type": "stream",
     "text": [
      "Add\n",
      "40\n"
     ]
    }
   ],
   "source": [
    "num1=10\n",
    "num2=30\n",
    "Add=num1+num2\n",
    "print(\"Add\")\n",
    "print(Add)"
   ]
  },
  {
   "cell_type": "code",
   "execution_count": 7,
   "id": "7f2b51f4",
   "metadata": {},
   "outputs": [],
   "source": [
    "Num1=40\n",
    "Num2=50\n",
    "Add=Num1+Num2\n",
    "Sub=Num1-Num2"
   ]
  },
  {
   "cell_type": "code",
   "execution_count": 8,
   "id": "3e371849",
   "metadata": {},
   "outputs": [],
   "source": [
    "First_Name= \"PRADEEP M\"\n",
    "FirstName=\"PRADEEP M\""
   ]
  },
  {
   "cell_type": "code",
   "execution_count": 9,
   "id": "9cbf345d",
   "metadata": {},
   "outputs": [],
   "source": [
    "FirstName=\"RAJATHI M\"\n",
    "firstName=\"RAJATHI M\""
   ]
  },
  {
   "cell_type": "code",
   "execution_count": 10,
   "id": "45cd9324",
   "metadata": {},
   "outputs": [],
   "source": [
    "f2irst=30"
   ]
  },
  {
   "cell_type": "code",
   "execution_count": 14,
   "id": "8b5b353c",
   "metadata": {},
   "outputs": [
    {
     "name": "stdout",
     "output_type": "stream",
     "text": [
      "The Addition of two numbers\n",
      "The Number1: 10\n",
      "The Number2: 20\n",
      "The Answer: 30\n"
     ]
    }
   ],
   "source": [
    "print(\"The Addition of two numbers\")\n",
    "num1=10\n",
    "print(\"The Number1:\",10)\n",
    "num2=20\n",
    "print(\"The Number2:\",20)\n",
    "add=num1+num2\n",
    "print(\"The Answer:\",add)"
   ]
  },
  {
   "cell_type": "code",
   "execution_count": 3,
   "id": "27d2b585",
   "metadata": {},
   "outputs": [
    {
     "name": "stdout",
     "output_type": "stream",
     "text": [
      "The Addition of two numbers\n",
      "The Number1: 10\n",
      "The Number2: 20\n",
      "The Answer: 30\n"
     ]
    }
   ],
   "source": [
    "print(\"The Addition of two numbers\")\n",
    "num1=10\n",
    "print(\"The Number1:\",num1)\n",
    "num2=20\n",
    "print(\"The Number2:\",num2)\n",
    "add=num1+num2\n",
    "print(\"The Answer:\",add)"
   ]
  },
  {
   "cell_type": "code",
   "execution_count": 16,
   "id": "c7b8ebdb",
   "metadata": {},
   "outputs": [
    {
     "name": "stdout",
     "output_type": "stream",
     "text": [
      "Enter the num1:30\n"
     ]
    }
   ],
   "source": [
    "num1=int(input(\"Enter the num1:\"))"
   ]
  },
  {
   "cell_type": "code",
   "execution_count": 17,
   "id": "83f0a570",
   "metadata": {},
   "outputs": [
    {
     "name": "stdout",
     "output_type": "stream",
     "text": [
      "Enter the num2:50\n"
     ]
    }
   ],
   "source": [
    "num2=int(input(\"Enter the num2:\"))"
   ]
  },
  {
   "cell_type": "code",
   "execution_count": 18,
   "id": "97cae45f",
   "metadata": {},
   "outputs": [],
   "source": [
    "add=num1+num2"
   ]
  },
  {
   "cell_type": "code",
   "execution_count": 19,
   "id": "ad7ba975",
   "metadata": {},
   "outputs": [
    {
     "name": "stdout",
     "output_type": "stream",
     "text": [
      "80\n"
     ]
    }
   ],
   "source": [
    "print(add)"
   ]
  },
  {
   "cell_type": "code",
   "execution_count": null,
   "id": "20a8a9f5",
   "metadata": {},
   "outputs": [],
   "source": []
  }
 ],
 "metadata": {
  "kernelspec": {
   "display_name": "Python 3 (ipykernel)",
   "language": "python",
   "name": "python3"
  },
  "language_info": {
   "codemirror_mode": {
    "name": "ipython",
    "version": 3
   },
   "file_extension": ".py",
   "mimetype": "text/x-python",
   "name": "python",
   "nbconvert_exporter": "python",
   "pygments_lexer": "ipython3",
   "version": "3.11.5"
  }
 },
 "nbformat": 4,
 "nbformat_minor": 5
}
